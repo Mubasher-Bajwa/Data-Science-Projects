{
 "cells": [
  {
   "cell_type": "markdown",
   "metadata": {},
   "source": [
    "## Best Streaming Service Analysis\n",
    "There is a lot of competition between all the major streaming services like Netflix, Prime Video, Hulu, and Disney+. As a Data Scientist, it could be a very amazing task to find which is the best streaming service among them. "
   ]
  },
  {
   "cell_type": "code",
   "execution_count": 107,
   "metadata": {},
   "outputs": [],
   "source": [
    "# importing libraries\n",
    "import pandas as pd\n",
    "import numpy as np\n",
    "import seaborn as sns\n",
    "import matplotlib.pyplot as plt\n",
    "import plotly.express as px"
   ]
  },
  {
   "cell_type": "markdown",
   "metadata": {},
   "source": [
    "The dataset contains a comprehensive list of all the TV shows which are available on the 4 platforms that we are comparing in this task."
   ]
  },
  {
   "cell_type": "code",
   "execution_count": 108,
   "metadata": {},
   "outputs": [
    {
     "data": {
      "text/html": [
       "<div>\n",
       "<style scoped>\n",
       "    .dataframe tbody tr th:only-of-type {\n",
       "        vertical-align: middle;\n",
       "    }\n",
       "\n",
       "    .dataframe tbody tr th {\n",
       "        vertical-align: top;\n",
       "    }\n",
       "\n",
       "    .dataframe thead th {\n",
       "        text-align: right;\n",
       "    }\n",
       "</style>\n",
       "<table border=\"1\" class=\"dataframe\">\n",
       "  <thead>\n",
       "    <tr style=\"text-align: right;\">\n",
       "      <th></th>\n",
       "      <th>Unnamed: 0</th>\n",
       "      <th>Title</th>\n",
       "      <th>Year</th>\n",
       "      <th>Age</th>\n",
       "      <th>IMDb</th>\n",
       "      <th>Rotten Tomatoes</th>\n",
       "      <th>Netflix</th>\n",
       "      <th>Hulu</th>\n",
       "      <th>Prime Video</th>\n",
       "      <th>Disney+</th>\n",
       "      <th>type</th>\n",
       "    </tr>\n",
       "  </thead>\n",
       "  <tbody>\n",
       "    <tr>\n",
       "      <th>0</th>\n",
       "      <td>0</td>\n",
       "      <td>Breaking Bad</td>\n",
       "      <td>2008</td>\n",
       "      <td>18+</td>\n",
       "      <td>9.5</td>\n",
       "      <td>96%</td>\n",
       "      <td>1</td>\n",
       "      <td>0</td>\n",
       "      <td>0</td>\n",
       "      <td>0</td>\n",
       "      <td>1</td>\n",
       "    </tr>\n",
       "    <tr>\n",
       "      <th>1</th>\n",
       "      <td>1</td>\n",
       "      <td>Stranger Things</td>\n",
       "      <td>2016</td>\n",
       "      <td>16+</td>\n",
       "      <td>8.8</td>\n",
       "      <td>93%</td>\n",
       "      <td>1</td>\n",
       "      <td>0</td>\n",
       "      <td>0</td>\n",
       "      <td>0</td>\n",
       "      <td>1</td>\n",
       "    </tr>\n",
       "    <tr>\n",
       "      <th>2</th>\n",
       "      <td>2</td>\n",
       "      <td>Money Heist</td>\n",
       "      <td>2017</td>\n",
       "      <td>18+</td>\n",
       "      <td>8.4</td>\n",
       "      <td>91%</td>\n",
       "      <td>1</td>\n",
       "      <td>0</td>\n",
       "      <td>0</td>\n",
       "      <td>0</td>\n",
       "      <td>1</td>\n",
       "    </tr>\n",
       "    <tr>\n",
       "      <th>3</th>\n",
       "      <td>3</td>\n",
       "      <td>Sherlock</td>\n",
       "      <td>2010</td>\n",
       "      <td>16+</td>\n",
       "      <td>9.1</td>\n",
       "      <td>78%</td>\n",
       "      <td>1</td>\n",
       "      <td>0</td>\n",
       "      <td>0</td>\n",
       "      <td>0</td>\n",
       "      <td>1</td>\n",
       "    </tr>\n",
       "    <tr>\n",
       "      <th>4</th>\n",
       "      <td>4</td>\n",
       "      <td>Better Call Saul</td>\n",
       "      <td>2015</td>\n",
       "      <td>18+</td>\n",
       "      <td>8.7</td>\n",
       "      <td>97%</td>\n",
       "      <td>1</td>\n",
       "      <td>0</td>\n",
       "      <td>0</td>\n",
       "      <td>0</td>\n",
       "      <td>1</td>\n",
       "    </tr>\n",
       "  </tbody>\n",
       "</table>\n",
       "</div>"
      ],
      "text/plain": [
       "   Unnamed: 0             Title  Year  Age  IMDb Rotten Tomatoes  Netflix  \\\n",
       "0           0      Breaking Bad  2008  18+   9.5             96%        1   \n",
       "1           1   Stranger Things  2016  16+   8.8             93%        1   \n",
       "2           2       Money Heist  2017  18+   8.4             91%        1   \n",
       "3           3          Sherlock  2010  16+   9.1             78%        1   \n",
       "4           4  Better Call Saul  2015  18+   8.7             97%        1   \n",
       "\n",
       "   Hulu  Prime Video  Disney+  type  \n",
       "0     0            0        0     1  \n",
       "1     0            0        0     1  \n",
       "2     0            0        0     1  \n",
       "3     0            0        0     1  \n",
       "4     0            0        0     1  "
      ]
     },
     "execution_count": 108,
     "metadata": {},
     "output_type": "execute_result"
    }
   ],
   "source": [
    "# importing dataset\n",
    "df = pd.read_csv('tv_shows.csv')\n",
    "df.head()"
   ]
  },
  {
   "cell_type": "code",
   "execution_count": 109,
   "metadata": {},
   "outputs": [
    {
     "data": {
      "text/plain": [
       "(5611, 11)"
      ]
     },
     "execution_count": 109,
     "metadata": {},
     "output_type": "execute_result"
    }
   ],
   "source": [
    "df.shape"
   ]
  },
  {
   "cell_type": "markdown",
   "metadata": {},
   "source": [
    "Let’s prepare the dataset by dropping the duplicate values based on the title of the shows:"
   ]
  },
  {
   "cell_type": "code",
   "execution_count": 110,
   "metadata": {},
   "outputs": [],
   "source": [
    "df.drop_duplicates(subset='Title', keep='first', inplace = True)"
   ]
  },
  {
   "cell_type": "code",
   "execution_count": 111,
   "metadata": {},
   "outputs": [
    {
     "data": {
      "text/plain": [
       "(5564, 11)"
      ]
     },
     "execution_count": 111,
     "metadata": {},
     "output_type": "execute_result"
    }
   ],
   "source": [
    "df.shape"
   ]
  },
  {
   "cell_type": "markdown",
   "metadata": {},
   "source": [
    "Let's fill the null values in the data with zeroes and then convert them into integer data types"
   ]
  },
  {
   "cell_type": "code",
   "execution_count": 112,
   "metadata": {},
   "outputs": [
    {
     "data": {
      "text/plain": [
       "Unnamed: 0            0\n",
       "Title                 0\n",
       "Year                  0\n",
       "Age                2426\n",
       "IMDb               1156\n",
       "Rotten Tomatoes    4560\n",
       "Netflix               0\n",
       "Hulu                  0\n",
       "Prime Video           0\n",
       "Disney+               0\n",
       "type                  0\n",
       "dtype: int64"
      ]
     },
     "execution_count": 112,
     "metadata": {},
     "output_type": "execute_result"
    }
   ],
   "source": [
    "df.isnull().sum()"
   ]
  },
  {
   "cell_type": "code",
   "execution_count": 113,
   "metadata": {},
   "outputs": [],
   "source": [
    "df['Rotten Tomatoes'] = df['Rotten Tomatoes'].fillna('0%')\n",
    "df['Rotten Tomatoes'] = df['Rotten Tomatoes'].apply(lambda x: x.rstrip('%'))\n",
    "df['Rotten Tomatoes'] = pd.to_numeric(df['Rotten Tomatoes'])"
   ]
  },
  {
   "cell_type": "code",
   "execution_count": 114,
   "metadata": {},
   "outputs": [],
   "source": [
    "df['IMDb'] = df['IMDb'].fillna('0')\n",
    "df['IMDb'] = df['IMDb']*10\n",
    "df['IMDb'] = df['IMDb'].astype(int)"
   ]
  },
  {
   "cell_type": "markdown",
   "metadata": {},
   "source": [
    "Visualizing the data will be easiest if we get 1s and 0s in the columns named Netflix, Hulu, Disney and Prime Video under a categorical format. There may be a chance that the same show is available in more than one platform:"
   ]
  },
  {
   "cell_type": "code",
   "execution_count": 115,
   "metadata": {},
   "outputs": [
    {
     "data": {
      "text/plain": [
       "Index(['Unnamed: 0', 'Title', 'Year', 'Age', 'IMDb', 'Rotten Tomatoes',\n",
       "       'Netflix', 'Hulu', 'Prime Video', 'Disney+', 'type'],\n",
       "      dtype='object')"
      ]
     },
     "execution_count": 115,
     "metadata": {},
     "output_type": "execute_result"
    }
   ],
   "source": [
    "df.columns"
   ]
  },
  {
   "cell_type": "code",
   "execution_count": 116,
   "metadata": {},
   "outputs": [
    {
     "data": {
      "text/html": [
       "<div>\n",
       "<style scoped>\n",
       "    .dataframe tbody tr th:only-of-type {\n",
       "        vertical-align: middle;\n",
       "    }\n",
       "\n",
       "    .dataframe tbody tr th {\n",
       "        vertical-align: top;\n",
       "    }\n",
       "\n",
       "    .dataframe thead th {\n",
       "        text-align: right;\n",
       "    }\n",
       "</style>\n",
       "<table border=\"1\" class=\"dataframe\">\n",
       "  <thead>\n",
       "    <tr style=\"text-align: right;\">\n",
       "      <th></th>\n",
       "      <th>Title</th>\n",
       "      <th>StreamingOn</th>\n",
       "      <th>Present</th>\n",
       "    </tr>\n",
       "  </thead>\n",
       "  <tbody>\n",
       "    <tr>\n",
       "      <th>0</th>\n",
       "      <td>Breaking Bad</td>\n",
       "      <td>Netflix</td>\n",
       "      <td>1</td>\n",
       "    </tr>\n",
       "    <tr>\n",
       "      <th>1</th>\n",
       "      <td>Stranger Things</td>\n",
       "      <td>Netflix</td>\n",
       "      <td>1</td>\n",
       "    </tr>\n",
       "    <tr>\n",
       "      <th>2</th>\n",
       "      <td>Money Heist</td>\n",
       "      <td>Netflix</td>\n",
       "      <td>1</td>\n",
       "    </tr>\n",
       "    <tr>\n",
       "      <th>3</th>\n",
       "      <td>Sherlock</td>\n",
       "      <td>Netflix</td>\n",
       "      <td>1</td>\n",
       "    </tr>\n",
       "    <tr>\n",
       "      <th>4</th>\n",
       "      <td>Better Call Saul</td>\n",
       "      <td>Netflix</td>\n",
       "      <td>1</td>\n",
       "    </tr>\n",
       "  </tbody>\n",
       "</table>\n",
       "</div>"
      ],
      "text/plain": [
       "              Title StreamingOn  Present\n",
       "0      Breaking Bad     Netflix        1\n",
       "1   Stranger Things     Netflix        1\n",
       "2       Money Heist     Netflix        1\n",
       "3          Sherlock     Netflix        1\n",
       "4  Better Call Saul     Netflix        1"
      ]
     },
     "execution_count": 116,
     "metadata": {},
     "output_type": "execute_result"
    }
   ],
   "source": [
    "df1 = df[['Title','Netflix', 'Hulu', 'Prime Video', 'Disney+']]\n",
    "tv_shows_long = pd.melt(df1, id_vars=['Title'], var_name='StreamingOn', value_name='Present')\n",
    "tv_shows_long.head()"
   ]
  },
  {
   "cell_type": "code",
   "execution_count": 117,
   "metadata": {},
   "outputs": [
    {
     "data": {
      "text/html": [
       "<div>\n",
       "<style scoped>\n",
       "    .dataframe tbody tr th:only-of-type {\n",
       "        vertical-align: middle;\n",
       "    }\n",
       "\n",
       "    .dataframe tbody tr th {\n",
       "        vertical-align: top;\n",
       "    }\n",
       "\n",
       "    .dataframe thead th {\n",
       "        text-align: right;\n",
       "    }\n",
       "</style>\n",
       "<table border=\"1\" class=\"dataframe\">\n",
       "  <thead>\n",
       "    <tr style=\"text-align: right;\">\n",
       "      <th></th>\n",
       "      <th>Title</th>\n",
       "      <th>StreamingOn</th>\n",
       "    </tr>\n",
       "  </thead>\n",
       "  <tbody>\n",
       "    <tr>\n",
       "      <th>0</th>\n",
       "      <td>Breaking Bad</td>\n",
       "      <td>Netflix</td>\n",
       "    </tr>\n",
       "    <tr>\n",
       "      <th>1</th>\n",
       "      <td>Stranger Things</td>\n",
       "      <td>Netflix</td>\n",
       "    </tr>\n",
       "    <tr>\n",
       "      <th>2</th>\n",
       "      <td>Money Heist</td>\n",
       "      <td>Netflix</td>\n",
       "    </tr>\n",
       "    <tr>\n",
       "      <th>3</th>\n",
       "      <td>Sherlock</td>\n",
       "      <td>Netflix</td>\n",
       "    </tr>\n",
       "    <tr>\n",
       "      <th>4</th>\n",
       "      <td>Better Call Saul</td>\n",
       "      <td>Netflix</td>\n",
       "    </tr>\n",
       "  </tbody>\n",
       "</table>\n",
       "</div>"
      ],
      "text/plain": [
       "              Title StreamingOn\n",
       "0      Breaking Bad     Netflix\n",
       "1   Stranger Things     Netflix\n",
       "2       Money Heist     Netflix\n",
       "3          Sherlock     Netflix\n",
       "4  Better Call Saul     Netflix"
      ]
     },
     "execution_count": 117,
     "metadata": {},
     "output_type": "execute_result"
    }
   ],
   "source": [
    "tv_shows_long = tv_shows_long[tv_shows_long['Present']==1]\n",
    "tv_shows_long.drop(columns='Present', inplace=True)\n",
    "tv_shows_long.head()"
   ]
  },
  {
   "cell_type": "markdown",
   "metadata": {},
   "source": [
    "Now let's merge this data with the data we started with"
   ]
  },
  {
   "cell_type": "code",
   "execution_count": 118,
   "metadata": {},
   "outputs": [],
   "source": [
    "tv_shows_combined = tv_shows_long.merge(df, on='Title', how='inner')"
   ]
  },
  {
   "cell_type": "code",
   "execution_count": 119,
   "metadata": {},
   "outputs": [
    {
     "data": {
      "text/html": [
       "<div>\n",
       "<style scoped>\n",
       "    .dataframe tbody tr th:only-of-type {\n",
       "        vertical-align: middle;\n",
       "    }\n",
       "\n",
       "    .dataframe tbody tr th {\n",
       "        vertical-align: top;\n",
       "    }\n",
       "\n",
       "    .dataframe thead th {\n",
       "        text-align: right;\n",
       "    }\n",
       "</style>\n",
       "<table border=\"1\" class=\"dataframe\">\n",
       "  <thead>\n",
       "    <tr style=\"text-align: right;\">\n",
       "      <th></th>\n",
       "      <th>Title</th>\n",
       "      <th>StreamingOn</th>\n",
       "      <th>Unnamed: 0</th>\n",
       "      <th>Year</th>\n",
       "      <th>Age</th>\n",
       "      <th>IMDb</th>\n",
       "      <th>Rotten Tomatoes</th>\n",
       "      <th>Netflix</th>\n",
       "      <th>Hulu</th>\n",
       "      <th>Prime Video</th>\n",
       "      <th>Disney+</th>\n",
       "      <th>type</th>\n",
       "    </tr>\n",
       "  </thead>\n",
       "  <tbody>\n",
       "    <tr>\n",
       "      <th>0</th>\n",
       "      <td>Breaking Bad</td>\n",
       "      <td>Netflix</td>\n",
       "      <td>0</td>\n",
       "      <td>2008</td>\n",
       "      <td>18+</td>\n",
       "      <td>95</td>\n",
       "      <td>96</td>\n",
       "      <td>1</td>\n",
       "      <td>0</td>\n",
       "      <td>0</td>\n",
       "      <td>0</td>\n",
       "      <td>1</td>\n",
       "    </tr>\n",
       "    <tr>\n",
       "      <th>1</th>\n",
       "      <td>Stranger Things</td>\n",
       "      <td>Netflix</td>\n",
       "      <td>1</td>\n",
       "      <td>2016</td>\n",
       "      <td>16+</td>\n",
       "      <td>88</td>\n",
       "      <td>93</td>\n",
       "      <td>1</td>\n",
       "      <td>0</td>\n",
       "      <td>0</td>\n",
       "      <td>0</td>\n",
       "      <td>1</td>\n",
       "    </tr>\n",
       "    <tr>\n",
       "      <th>2</th>\n",
       "      <td>Money Heist</td>\n",
       "      <td>Netflix</td>\n",
       "      <td>2</td>\n",
       "      <td>2017</td>\n",
       "      <td>18+</td>\n",
       "      <td>84</td>\n",
       "      <td>91</td>\n",
       "      <td>1</td>\n",
       "      <td>0</td>\n",
       "      <td>0</td>\n",
       "      <td>0</td>\n",
       "      <td>1</td>\n",
       "    </tr>\n",
       "    <tr>\n",
       "      <th>3</th>\n",
       "      <td>Sherlock</td>\n",
       "      <td>Netflix</td>\n",
       "      <td>3</td>\n",
       "      <td>2010</td>\n",
       "      <td>16+</td>\n",
       "      <td>91</td>\n",
       "      <td>78</td>\n",
       "      <td>1</td>\n",
       "      <td>0</td>\n",
       "      <td>0</td>\n",
       "      <td>0</td>\n",
       "      <td>1</td>\n",
       "    </tr>\n",
       "    <tr>\n",
       "      <th>4</th>\n",
       "      <td>Better Call Saul</td>\n",
       "      <td>Netflix</td>\n",
       "      <td>4</td>\n",
       "      <td>2015</td>\n",
       "      <td>18+</td>\n",
       "      <td>87</td>\n",
       "      <td>97</td>\n",
       "      <td>1</td>\n",
       "      <td>0</td>\n",
       "      <td>0</td>\n",
       "      <td>0</td>\n",
       "      <td>1</td>\n",
       "    </tr>\n",
       "  </tbody>\n",
       "</table>\n",
       "</div>"
      ],
      "text/plain": [
       "              Title StreamingOn  Unnamed: 0  Year  Age  IMDb  Rotten Tomatoes  \\\n",
       "0      Breaking Bad     Netflix           0  2008  18+    95               96   \n",
       "1   Stranger Things     Netflix           1  2016  16+    88               93   \n",
       "2       Money Heist     Netflix           2  2017  18+    84               91   \n",
       "3          Sherlock     Netflix           3  2010  16+    91               78   \n",
       "4  Better Call Saul     Netflix           4  2015  18+    87               97   \n",
       "\n",
       "   Netflix  Hulu  Prime Video  Disney+  type  \n",
       "0        1     0            0        0     1  \n",
       "1        1     0            0        0     1  \n",
       "2        1     0            0        0     1  \n",
       "3        1     0            0        0     1  \n",
       "4        1     0            0        0     1  "
      ]
     },
     "execution_count": 119,
     "metadata": {},
     "output_type": "execute_result"
    }
   ],
   "source": [
    "tv_shows_combined.head()"
   ]
  },
  {
   "cell_type": "markdown",
   "metadata": {},
   "source": [
    "Droping some unwanted columns:"
   ]
  },
  {
   "cell_type": "code",
   "execution_count": 120,
   "metadata": {},
   "outputs": [],
   "source": [
    "tv_shows_combined.drop(columns=['Unnamed: 0','Netflix', 'Hulu', 'Prime Video', 'Disney+', 'type'], inplace=True)"
   ]
  },
  {
   "cell_type": "code",
   "execution_count": 121,
   "metadata": {},
   "outputs": [
    {
     "data": {
      "text/html": [
       "<div>\n",
       "<style scoped>\n",
       "    .dataframe tbody tr th:only-of-type {\n",
       "        vertical-align: middle;\n",
       "    }\n",
       "\n",
       "    .dataframe tbody tr th {\n",
       "        vertical-align: top;\n",
       "    }\n",
       "\n",
       "    .dataframe thead th {\n",
       "        text-align: right;\n",
       "    }\n",
       "</style>\n",
       "<table border=\"1\" class=\"dataframe\">\n",
       "  <thead>\n",
       "    <tr style=\"text-align: right;\">\n",
       "      <th></th>\n",
       "      <th>Title</th>\n",
       "      <th>StreamingOn</th>\n",
       "      <th>Year</th>\n",
       "      <th>Age</th>\n",
       "      <th>IMDb</th>\n",
       "      <th>Rotten Tomatoes</th>\n",
       "    </tr>\n",
       "  </thead>\n",
       "  <tbody>\n",
       "    <tr>\n",
       "      <th>0</th>\n",
       "      <td>Breaking Bad</td>\n",
       "      <td>Netflix</td>\n",
       "      <td>2008</td>\n",
       "      <td>18+</td>\n",
       "      <td>95</td>\n",
       "      <td>96</td>\n",
       "    </tr>\n",
       "    <tr>\n",
       "      <th>1</th>\n",
       "      <td>Stranger Things</td>\n",
       "      <td>Netflix</td>\n",
       "      <td>2016</td>\n",
       "      <td>16+</td>\n",
       "      <td>88</td>\n",
       "      <td>93</td>\n",
       "    </tr>\n",
       "    <tr>\n",
       "      <th>2</th>\n",
       "      <td>Money Heist</td>\n",
       "      <td>Netflix</td>\n",
       "      <td>2017</td>\n",
       "      <td>18+</td>\n",
       "      <td>84</td>\n",
       "      <td>91</td>\n",
       "    </tr>\n",
       "    <tr>\n",
       "      <th>3</th>\n",
       "      <td>Sherlock</td>\n",
       "      <td>Netflix</td>\n",
       "      <td>2010</td>\n",
       "      <td>16+</td>\n",
       "      <td>91</td>\n",
       "      <td>78</td>\n",
       "    </tr>\n",
       "    <tr>\n",
       "      <th>4</th>\n",
       "      <td>Better Call Saul</td>\n",
       "      <td>Netflix</td>\n",
       "      <td>2015</td>\n",
       "      <td>18+</td>\n",
       "      <td>87</td>\n",
       "      <td>97</td>\n",
       "    </tr>\n",
       "  </tbody>\n",
       "</table>\n",
       "</div>"
      ],
      "text/plain": [
       "              Title StreamingOn  Year  Age  IMDb  Rotten Tomatoes\n",
       "0      Breaking Bad     Netflix  2008  18+    95               96\n",
       "1   Stranger Things     Netflix  2016  16+    88               93\n",
       "2       Money Heist     Netflix  2017  18+    84               91\n",
       "3          Sherlock     Netflix  2010  16+    91               78\n",
       "4  Better Call Saul     Netflix  2015  18+    87               97"
      ]
     },
     "execution_count": 121,
     "metadata": {},
     "output_type": "execute_result"
    }
   ],
   "source": [
    "tv_shows_combined.head()"
   ]
  },
  {
   "cell_type": "code",
   "execution_count": 122,
   "metadata": {},
   "outputs": [
    {
     "data": {
      "text/html": [
       "<div>\n",
       "<style scoped>\n",
       "    .dataframe tbody tr th:only-of-type {\n",
       "        vertical-align: middle;\n",
       "    }\n",
       "\n",
       "    .dataframe tbody tr th {\n",
       "        vertical-align: top;\n",
       "    }\n",
       "\n",
       "    .dataframe thead th {\n",
       "        text-align: right;\n",
       "    }\n",
       "</style>\n",
       "<table border=\"1\" class=\"dataframe\">\n",
       "  <thead>\n",
       "    <tr style=\"text-align: right;\">\n",
       "      <th></th>\n",
       "      <th>Title</th>\n",
       "      <th>Year</th>\n",
       "      <th>Age</th>\n",
       "      <th>IMDb</th>\n",
       "      <th>Rotten Tomatoes</th>\n",
       "    </tr>\n",
       "    <tr>\n",
       "      <th>StreamingOn</th>\n",
       "      <th></th>\n",
       "      <th></th>\n",
       "      <th></th>\n",
       "      <th></th>\n",
       "      <th></th>\n",
       "    </tr>\n",
       "  </thead>\n",
       "  <tbody>\n",
       "    <tr>\n",
       "      <th>Disney+</th>\n",
       "      <td>178</td>\n",
       "      <td>178</td>\n",
       "      <td>149</td>\n",
       "      <td>178</td>\n",
       "      <td>178</td>\n",
       "    </tr>\n",
       "    <tr>\n",
       "      <th>Hulu</th>\n",
       "      <td>1729</td>\n",
       "      <td>1729</td>\n",
       "      <td>1261</td>\n",
       "      <td>1729</td>\n",
       "      <td>1729</td>\n",
       "    </tr>\n",
       "    <tr>\n",
       "      <th>Netflix</th>\n",
       "      <td>1925</td>\n",
       "      <td>1925</td>\n",
       "      <td>1228</td>\n",
       "      <td>1925</td>\n",
       "      <td>1925</td>\n",
       "    </tr>\n",
       "    <tr>\n",
       "      <th>Prime Video</th>\n",
       "      <td>2126</td>\n",
       "      <td>2126</td>\n",
       "      <td>799</td>\n",
       "      <td>2126</td>\n",
       "      <td>2126</td>\n",
       "    </tr>\n",
       "  </tbody>\n",
       "</table>\n",
       "</div>"
      ],
      "text/plain": [
       "             Title  Year   Age  IMDb  Rotten Tomatoes\n",
       "StreamingOn                                          \n",
       "Disney+        178   178   149   178              178\n",
       "Hulu          1729  1729  1261  1729             1729\n",
       "Netflix       1925  1925  1228  1925             1925\n",
       "Prime Video   2126  2126   799  2126             2126"
      ]
     },
     "execution_count": 122,
     "metadata": {},
     "output_type": "execute_result"
    }
   ],
   "source": [
    "tv_shows_combined.groupby('StreamingOn').count()"
   ]
  },
  {
   "cell_type": "code",
   "execution_count": 123,
   "metadata": {},
   "outputs": [
    {
     "data": {
      "text/plain": [
       "StreamingOn\n",
       "Disney+         178\n",
       "Hulu           1729\n",
       "Netflix        1925\n",
       "Prime Video    2126\n",
       "Name: Title, dtype: int64"
      ]
     },
     "execution_count": 123,
     "metadata": {},
     "output_type": "execute_result"
    }
   ],
   "source": [
    "tv_shows_combined.groupby('StreamingOn').Title.count()"
   ]
  },
  {
   "cell_type": "code",
   "execution_count": 124,
   "metadata": {},
   "outputs": [
    {
     "data": {
      "text/plain": [
       "<AxesSubplot:xlabel='StreamingOn'>"
      ]
     },
     "execution_count": 124,
     "metadata": {},
     "output_type": "execute_result"
    },
    {
     "data": {
      "image/png": "[encoded data removed]",
      "text/plain": [
       "<Figure size 432x288 with 1 Axes>"
      ]
     },
     "metadata": {
      "needs_background": "light"
     },
     "output_type": "display_data"
    }
   ],
   "source": [
    "tv_shows_combined.groupby('StreamingOn').Title.count().plot(kind='bar')"
   ]
  },
  {
   "cell_type": "markdown",
   "metadata": {},
   "source": [
    "By using the bar plot, we can observe that Amazon prime had a great quantity of content"
   ]
  },
  {
   "cell_type": "markdown",
   "metadata": {},
   "source": [
    "Now let’s use a scatter plot to compare the ratings between IMBD and Rotten Tomatoes to compare which streaming platform has the best ratings in both the user rating platforms:"
   ]
  },
  {
   "cell_type": "code",
   "execution_count": 125,
   "metadata": {},
   "outputs": [],
   "source": [
    "import plotly.express as px\n",
    "tv_shows_both_ratings = tv_shows_combined[(tv_shows_combined.IMDb > 0) & tv_shows_combined['Rotten Tomatoes'] > 0]"
   ]
  },
  {
   "cell_type": "code",
   "execution_count": 126,
   "metadata": {},
   "outputs": [
    {
     "data": {
      "application/vnd.plotly.v1+json": {
       "config": {
        "plotlyServerURL": "https://plot.ly"
       },
       "data": [
        {
         "hovertemplate": "StreamingOn=Netflix<br>IMDb=%{x}<br>Rotten Tomatoes=%{y}<extra></extra>",
         "legendgroup": "Netflix",
         "marker": {
          "color": "#636efa",
          "symbol": "circle"
         },
         "mode": "markers",
         "name": "Netflix",
         "orientation": "v",
         "showlegend": true,
         "type": "scatter",
         "x": [
          88,
          84,
          87,
          89,
          88,
          84,
          82,
          84,
          88,
          86,
          83,
          88,
          84,
          86,
          82,
          87,
          80,
          77,
          84,
          82,
          76,
          81,
          87,
          77,
          87,
          76,
          87,
          80,
          82,
          81,
          84,
          81,
          74,
          84,
          76,
          85,
          78,
          86,
          80,
          80,
          79,
          85,
          84,
          81,
          88,
          82,
          83,
          82,
          93,
          78,
          76,
          79,
          77,
          81,
          79,
          80,
          83,
          80,
          78,
          83,
          73,
          77,
          82,
          68,
          81,
          71,
          74,
          78,
          82,
          78,
          78,
          85,
          83,
          73,
          77,
          84,
          75,
          81,
          81,
          73,
          84,
          72,
          83,
          73,
          79,
          80,
          85,
          75,
          79,
          78,
          77,
          72,
          84,
          82,
          75,
          85,
          77,
          81,
          81,
          77,
          74,
          81,
          82,
          77,
          84,
          79,
          67,
          68,
          73,
          65,
          80,
          75,
          83,
          78,
          71,
          70,
          73,
          73,
          75,
          74,
          76,
          72,
          75,
          70,
          77,
          77,
          74,
          61,
          85,
          75,
          60,
          74,
          66,
          66,
          76,
          74,
          79,
          80,
          64,
          71,
          64,
          79,
          79,
          76,
          76,
          62,
          76,
          71,
          61,
          72,
          74,
          65,
          63,
          74,
          74,
          65,
          61,
          75,
          64,
          82,
          72,
          70,
          59,
          74,
          67,
          74,
          66,
          73,
          73,
          70,
          65,
          76,
          72,
          65,
          70,
          67,
          66,
          73,
          60,
          63,
          58,
          38,
          68,
          65,
          71,
          70,
          77,
          69,
          36,
          61,
          64,
          52,
          57,
          23,
          58
         ],
         "xaxis": "x",
         "y": [
          93,
          91,
          97,
          81,
          83,
          93,
          81,
          81,
          89,
          93,
          67,
          89,
          91,
          85,
          97,
          93,
          91,
          89,
          91,
          87,
          83,
          93,
          75,
          85,
          89,
          97,
          93,
          97,
          91,
          91,
          93,
          71,
          81,
          97,
          85,
          87,
          91,
          89,
          95,
          83,
          77,
          63,
          99,
          93,
          75,
          93,
          87,
          93,
          93,
          77,
          85,
          87,
          85,
          85,
          91,
          83,
          89,
          93,
          39,
          85,
          75,
          93,
          99,
          87,
          93,
          75,
          67,
          99,
          97,
          89,
          85,
          87,
          95,
          87,
          57,
          97,
          89,
          97,
          69,
          89,
          89,
          83,
          89,
          95,
          85,
          67,
          91,
          71,
          97,
          77,
          57,
          77,
          95,
          91,
          63,
          91,
          81,
          67,
          81,
          65,
          93,
          89,
          27,
          81,
          45,
          93,
          71,
          81,
          77,
          37,
          65,
          93,
          97,
          97,
          83,
          85,
          97,
          57,
          57,
          65,
          91,
          75,
          77,
          51,
          77,
          63,
          75,
          95,
          93,
          61,
          73,
          33,
          51,
          11,
          95,
          77,
          93,
          95,
          83,
          77,
          75,
          75,
          83,
          39,
          95,
          95,
          67,
          71,
          55,
          77,
          73,
          47,
          81,
          97,
          89,
          75,
          33,
          91,
          73,
          95,
          35,
          75,
          35,
          93,
          77,
          79,
          79,
          83,
          33,
          73,
          41,
          63,
          79,
          37,
          75,
          19,
          67,
          67,
          63,
          67,
          77,
          71,
          33,
          57,
          83,
          71,
          43,
          67,
          75,
          41,
          37,
          81,
          17,
          31,
          41
         ],
         "yaxis": "y"
        },
        {
         "hovertemplate": "StreamingOn=Hulu<br>IMDb=%{x}<br>Rotten Tomatoes=%{y}<extra></extra>",
         "legendgroup": "Hulu",
         "marker": {
          "color": "#EF553B",
          "symbol": "circle"
         },
         "mode": "markers",
         "name": "Hulu",
         "orientation": "v",
         "showlegend": true,
         "type": "scatter",
         "x": [
          86,
          88,
          82,
          76,
          87,
          81,
          74,
          86,
          79,
          78,
          66,
          60,
          85,
          84,
          87,
          83,
          90,
          87,
          83,
          84,
          86,
          84,
          86,
          86,
          83,
          86,
          87,
          81,
          82,
          83,
          79,
          86,
          88,
          77,
          80,
          86,
          82,
          80,
          80,
          85,
          78,
          75,
          78,
          78,
          83,
          84,
          81,
          88,
          77,
          76,
          81,
          75,
          74,
          80,
          78,
          73,
          82,
          70,
          77,
          80,
          84,
          81,
          81,
          76,
          77,
          69,
          80,
          82,
          74,
          79,
          74,
          83,
          80,
          83,
          73,
          72,
          76,
          65,
          71,
          67,
          78,
          74,
          83,
          80,
          73,
          69,
          71,
          79,
          80,
          76,
          82,
          75,
          78,
          79,
          77,
          68,
          84,
          79,
          67,
          79,
          71,
          77,
          75,
          78,
          74,
          73,
          75,
          70,
          75,
          73,
          73,
          77,
          67,
          76,
          70,
          81,
          72,
          69,
          73,
          75,
          77,
          76,
          70,
          70,
          74,
          67,
          74,
          70,
          53,
          73,
          71,
          76,
          62,
          62,
          75,
          74,
          81,
          79,
          77,
          62,
          74,
          56,
          67,
          67,
          59,
          62,
          49,
          69,
          77,
          41,
          59,
          76,
          64,
          62,
          72,
          70,
          57,
          79,
          66,
          70,
          67,
          56,
          57,
          74,
          43,
          63,
          66,
          64,
          73,
          42
         ],
         "xaxis": "x",
         "y": [
          93,
          89,
          97,
          83,
          75,
          71,
          81,
          89,
          87,
          77,
          51,
          63,
          93,
          97,
          85,
          85,
          85,
          81,
          83,
          95,
          87,
          97,
          91,
          97,
          83,
          75,
          97,
          91,
          85,
          91,
          95,
          97,
          83,
          81,
          93,
          97,
          69,
          87,
          65,
          83,
          69,
          91,
          81,
          99,
          85,
          99,
          87,
          97,
          91,
          87,
          95,
          83,
          95,
          87,
          91,
          79,
          81,
          87,
          77,
          89,
          87,
          91,
          89,
          85,
          97,
          73,
          97,
          89,
          79,
          89,
          77,
          89,
          81,
          97,
          89,
          57,
          75,
          97,
          91,
          87,
          83,
          61,
          95,
          97,
          85,
          89,
          75,
          75,
          67,
          65,
          91,
          79,
          81,
          53,
          93,
          61,
          95,
          93,
          77,
          75,
          83,
          75,
          75,
          95,
          87,
          77,
          93,
          75,
          59,
          85,
          73,
          97,
          91,
          73,
          67,
          67,
          67,
          73,
          41,
          77,
          67,
          73,
          95,
          39,
          91,
          67,
          51,
          65,
          89,
          77,
          43,
          83,
          59,
          59,
          81,
          43,
          83,
          81,
          83,
          73,
          33,
          89,
          9,
          39,
          77,
          47,
          43,
          11,
          93,
          17,
          33,
          67,
          81,
          93,
          83,
          79,
          93,
          73,
          89,
          67,
          23,
          67,
          67,
          85,
          25,
          9,
          21,
          25,
          83,
          67
         ],
         "yaxis": "y"
        },
        {
         "hovertemplate": "StreamingOn=Prime Video<br>IMDb=%{x}<br>Rotten Tomatoes=%{y}<extra></extra>",
         "legendgroup": "Prime Video",
         "marker": {
          "color": "#00cc96",
          "symbol": "circle"
         },
         "mode": "markers",
         "name": "Prime Video",
         "orientation": "v",
         "showlegend": true,
         "type": "scatter",
         "x": [
          86,
          86,
          83,
          78,
          84,
          70,
          64,
          85,
          82,
          85,
          75,
          81,
          69,
          80,
          76,
          85,
          84,
          87,
          83,
          87,
          82,
          82,
          83,
          83,
          84,
          87,
          81,
          76,
          83,
          78,
          81,
          86,
          83,
          87,
          82,
          79,
          82,
          86,
          83,
          73,
          85,
          71,
          82,
          80,
          80,
          81,
          75,
          81,
          70,
          79,
          74,
          79,
          74,
          81,
          77,
          82,
          73,
          78,
          66,
          71,
          75,
          64,
          73,
          74,
          79,
          69,
          75,
          79,
          82,
          75,
          74,
          69,
          79,
          72,
          73,
          72,
          74,
          77,
          69,
          61,
          67,
          70,
          85,
          61,
          62,
          64,
          66,
          62,
          67,
          63,
          66,
          64,
          59,
          66,
          75,
          72,
          38,
          48,
          61
         ],
         "xaxis": "x",
         "y": [
          93,
          89,
          89,
          77,
          45,
          51,
          73,
          93,
          85,
          83,
          91,
          87,
          89,
          67,
          67,
          93,
          97,
          89,
          93,
          81,
          81,
          89,
          89,
          93,
          89,
          89,
          71,
          81,
          91,
          89,
          91,
          59,
          57,
          85,
          93,
          57,
          91,
          93,
          87,
          89,
          81,
          71,
          77,
          89,
          75,
          81,
          67,
          97,
          77,
          93,
          95,
          79,
          77,
          65,
          95,
          87,
          91,
          91,
          77,
          71,
          87,
          77,
          57,
          69,
          95,
          95,
          53,
          79,
          73,
          79,
          81,
          67,
          45,
          83,
          83,
          87,
          73,
          83,
          59,
          79,
          65,
          85,
          97,
          79,
          87,
          57,
          63,
          57,
          19,
          33,
          17,
          75,
          71,
          63,
          47,
          37,
          35,
          15,
          63
         ],
         "yaxis": "y"
        },
        {
         "hovertemplate": "StreamingOn=Disney+<br>IMDb=%{x}<br>Rotten Tomatoes=%{y}<extra></extra>",
         "legendgroup": "Disney+",
         "marker": {
          "color": "#ab63fa",
          "symbol": "circle"
         },
         "mode": "markers",
         "name": "Disney+",
         "orientation": "v",
         "showlegend": true,
         "type": "scatter",
         "x": [
          87,
          70,
          87,
          82,
          84,
          88,
          73,
          80,
          80,
          50
         ],
         "xaxis": "x",
         "y": [
          85,
          87,
          93,
          93,
          85,
          83,
          79,
          67,
          83,
          11
         ],
         "yaxis": "y"
        }
       ],
       "layout": {
        "legend": {
         "title": {
          "text": "StreamingOn"
         },
         "tracegroupgap": 0
        },
        "margin": {
         "t": 60
        },
        "template": {
         "data": {
          "bar": [
           {
            "error_x": {
             "color": "#2a3f5f"
            },
            "error_y": {
             "color": "#2a3f5f"
            },
            "marker": {
             "line": {
              "color": "#E5ECF6",
              "width": 0.5
             },
             "pattern": {
              "fillmode": "overlay",
              "size": 10,
              "solidity": 0.2
             }
            },
            "type": "bar"
           }
          ],
          "barpolar": [
           {
            "marker": {
             "line": {
              "color": "#E5ECF6",
              "width": 0.5
             },
             "pattern": {
              "fillmode": "overlay",
              "size": 10,
              "solidity": 0.2
             }
            },
            "type": "barpolar"
           }
          ],
          "carpet": [
           {
            "aaxis": {
             "endlinecolor": "#2a3f5f",
             "gridcolor": "white",
             "linecolor": "white",
             "minorgridcolor": "white",
             "startlinecolor": "#2a3f5f"
            },
            "baxis": {
             "endlinecolor": "#2a3f5f",
             "gridcolor": "white",
             "linecolor": "white",
             "minorgridcolor": "white",
             "startlinecolor": "#2a3f5f"
            },
            "type": "carpet"
           }
          ],
          "choropleth": [
           {
            "colorbar": {
             "outlinewidth": 0,
             "ticks": ""
            },
            "type": "choropleth"
           }
          ],
          "contour": [
           {
            "colorbar": {
             "outlinewidth": 0,
             "ticks": ""
            },
            "colorscale": [
             [
              0,
              "#0d0887"
             ],
             [
              0.1111111111111111,
              "#46039f"
             ],
             [
              0.2222222222222222,
              "#7201a8"
             ],
             [
              0.3333333333333333,
              "#9c179e"
             ],
             [
              0.4444444444444444,
              "#bd3786"
             ],
             [
              0.5555555555555556,
              "#d8576b"
             ],
             [
              0.6666666666666666,
              "#ed7953"
             ],
             [
              0.7777777777777778,
              "#fb9f3a"
             ],
             [
              0.8888888888888888,
              "#fdca26"
             ],
             [
              1,
              "#f0f921"
             ]
            ],
            "type": "contour"
           }
          ],
          "contourcarpet": [
           {
            "colorbar": {
             "outlinewidth": 0,
             "ticks": ""
            },
            "type": "contourcarpet"
           }
          ],
          "heatmap": [
           {
            "colorbar": {
             "outlinewidth": 0,
             "ticks": ""
            },
            "colorscale": [
             [
              0,
              "#0d0887"
             ],
             [
              0.1111111111111111,
              "#46039f"
             ],
             [
              0.2222222222222222,
              "#7201a8"
             ],
             [
              0.3333333333333333,
              "#9c179e"
             ],
             [
              0.4444444444444444,
              "#bd3786"
             ],
             [
              0.5555555555555556,
              "#d8576b"
             ],
             [
              0.6666666666666666,
              "#ed7953"
             ],
             [
              0.7777777777777778,
              "#fb9f3a"
             ],
             [
              0.8888888888888888,
              "#fdca26"
             ],
             [
              1,
              "#f0f921"
             ]
            ],
            "type": "heatmap"
           }
          ],
          "heatmapgl": [
           {
            "colorbar": {
             "outlinewidth": 0,
             "ticks": ""
            },
            "colorscale": [
             [
              0,
              "#0d0887"
             ],
             [
              0.1111111111111111,
              "#46039f"
             ],
             [
              0.2222222222222222,
              "#7201a8"
             ],
             [
              0.3333333333333333,
              "#9c179e"
             ],
             [
              0.4444444444444444,
              "#bd3786"
             ],
             [
              0.5555555555555556,
              "#d8576b"
             ],
             [
              0.6666666666666666,
              "#ed7953"
             ],
             [
              0.7777777777777778,
              "#fb9f3a"
             ],
             [
              0.8888888888888888,
              "#fdca26"
             ],
             [
              1,
              "#f0f921"
             ]
            ],
            "type": "heatmapgl"
           }
          ],
          "histogram": [
           {
            "marker": {
             "pattern": {
              "fillmode": "overlay",
              "size": 10,
              "solidity": 0.2
             }
            },
            "type": "histogram"
           }
          ],
          "histogram2d": [
           {
            "colorbar": {
             "outlinewidth": 0,
             "ticks": ""
            },
            "colorscale": [
             [
              0,
              "#0d0887"
             ],
             [
              0.1111111111111111,
              "#46039f"
             ],
             [
              0.2222222222222222,
              "#7201a8"
             ],
             [
              0.3333333333333333,
              "#9c179e"
             ],
             [
              0.4444444444444444,
              "#bd3786"
             ],
             [
              0.5555555555555556,
              "#d8576b"
             ],
             [
              0.6666666666666666,
              "#ed7953"
             ],
             [
              0.7777777777777778,
              "#fb9f3a"
             ],
             [
              0.8888888888888888,
              "#fdca26"
             ],
             [
              1,
              "#f0f921"
             ]
            ],
            "type": "histogram2d"
           }
          ],
          "histogram2dcontour": [
           {
            "colorbar": {
             "outlinewidth": 0,
             "ticks": ""
            },
            "colorscale": [
             [
              0,
              "#0d0887"
             ],
             [
              0.1111111111111111,
              "#46039f"
             ],
             [
              0.2222222222222222,
              "#7201a8"
             ],
             [
              0.3333333333333333,
              "#9c179e"
             ],
             [
              0.4444444444444444,
              "#bd3786"
             ],
             [
              0.5555555555555556,
              "#d8576b"
             ],
             [
              0.6666666666666666,
              "#ed7953"
             ],
             [
              0.7777777777777778,
              "#fb9f3a"
             ],
             [
              0.8888888888888888,
              "#fdca26"
             ],
             [
              1,
              "#f0f921"
             ]
            ],
            "type": "histogram2dcontour"
           }
          ],
          "mesh3d": [
           {
            "colorbar": {
             "outlinewidth": 0,
             "ticks": ""
            },
            "type": "mesh3d"
           }
          ],
          "parcoords": [
           {
            "line": {
             "colorbar": {
              "outlinewidth": 0,
              "ticks": ""
             }
            },
            "type": "parcoords"
           }
          ],
          "pie": [
           {
            "automargin": true,
            "type": "pie"
           }
          ],
          "scatter": [
           {
            "marker": {
             "colorbar": {
              "outlinewidth": 0,
              "ticks": ""
             }
            },
            "type": "scatter"
           }
          ],
          "scatter3d": [
           {
            "line": {
             "colorbar": {
              "outlinewidth": 0,
              "ticks": ""
             }
            },
            "marker": {
             "colorbar": {
              "outlinewidth": 0,
              "ticks": ""
             }
            },
            "type": "scatter3d"
           }
          ],
          "scattercarpet": [
           {
            "marker": {
             "colorbar": {
              "outlinewidth": 0,
              "ticks": ""
             }
            },
            "type": "scattercarpet"
           }
          ],
          "scattergeo": [
           {
            "marker": {
             "colorbar": {
              "outlinewidth": 0,
              "ticks": ""
             }
            },
            "type": "scattergeo"
           }
          ],
          "scattergl": [
           {
            "marker": {
             "colorbar": {
              "outlinewidth": 0,
              "ticks": ""
             }
            },
            "type": "scattergl"
           }
          ],
          "scattermapbox": [
           {
            "marker": {
             "colorbar": {
              "outlinewidth": 0,
              "ticks": ""
             }
            },
            "type": "scattermapbox"
           }
          ],
          "scatterpolar": [
           {
            "marker": {
             "colorbar": {
              "outlinewidth": 0,
              "ticks": ""
             }
            },
            "type": "scatterpolar"
           }
          ],
          "scatterpolargl": [
           {
            "marker": {
             "colorbar": {
              "outlinewidth": 0,
              "ticks": ""
             }
            },
            "type": "scatterpolargl"
           }
          ],
          "scatterternary": [
           {
            "marker": {
             "colorbar": {
              "outlinewidth": 0,
              "ticks": ""
             }
            },
            "type": "scatterternary"
           }
          ],
          "surface": [
           {
            "colorbar": {
             "outlinewidth": 0,
             "ticks": ""
            },
            "colorscale": [
             [
              0,
              "#0d0887"
             ],
             [
              0.1111111111111111,
              "#46039f"
             ],
             [
              0.2222222222222222,
              "#7201a8"
             ],
             [
              0.3333333333333333,
              "#9c179e"
             ],
             [
              0.4444444444444444,
              "#bd3786"
             ],
             [
              0.5555555555555556,
              "#d8576b"
             ],
             [
              0.6666666666666666,
              "#ed7953"
             ],
             [
              0.7777777777777778,
              "#fb9f3a"
             ],
             [
              0.8888888888888888,
              "#fdca26"
             ],
             [
              1,
              "#f0f921"
             ]
            ],
            "type": "surface"
           }
          ],
          "table": [
           {
            "cells": {
             "fill": {
              "color": "#EBF0F8"
             },
             "line": {
              "color": "white"
             }
            },
            "header": {
             "fill": {
              "color": "#C8D4E3"
             },
             "line": {
              "color": "white"
             }
            },
            "type": "table"
           }
          ]
         },
         "layout": {
          "annotationdefaults": {
           "arrowcolor": "#2a3f5f",
           "arrowhead": 0,
           "arrowwidth": 1
          },
          "autotypenumbers": "strict",
          "coloraxis": {
           "colorbar": {
            "outlinewidth": 0,
            "ticks": ""
           }
          },
          "colorscale": {
           "diverging": [
            [
             0,
             "#8e0152"
            ],
            [
             0.1,
             "#c51b7d"
            ],
            [
             0.2,
             "#de77ae"
            ],
            [
             0.3,
             "#f1b6da"
            ],
            [
             0.4,
             "#fde0ef"
            ],
            [
             0.5,
             "#f7f7f7"
            ],
            [
             0.6,
             "#e6f5d0"
            ],
            [
             0.7,
             "#b8e186"
            ],
            [
             0.8,
             "#7fbc41"
            ],
            [
             0.9,
             "#4d9221"
            ],
            [
             1,
             "#276419"
            ]
           ],
           "sequential": [
            [
             0,
             "#0d0887"
            ],
            [
             0.1111111111111111,
             "#46039f"
            ],
            [
             0.2222222222222222,
             "#7201a8"
            ],
            [
             0.3333333333333333,
             "#9c179e"
            ],
            [
             0.4444444444444444,
             "#bd3786"
            ],
            [
             0.5555555555555556,
             "#d8576b"
            ],
            [
             0.6666666666666666,
             "#ed7953"
            ],
            [
             0.7777777777777778,
             "#fb9f3a"
            ],
            [
             0.8888888888888888,
             "#fdca26"
            ],
            [
             1,
             "#f0f921"
            ]
           ],
           "sequentialminus": [
            [
             0,
             "#0d0887"
            ],
            [
             0.1111111111111111,
             "#46039f"
            ],
            [
             0.2222222222222222,
             "#7201a8"
            ],
            [
             0.3333333333333333,
             "#9c179e"
            ],
            [
             0.4444444444444444,
             "#bd3786"
            ],
            [
             0.5555555555555556,
             "#d8576b"
            ],
            [
             0.6666666666666666,
             "#ed7953"
            ],
            [
             0.7777777777777778,
             "#fb9f3a"
            ],
            [
             0.8888888888888888,
             "#fdca26"
            ],
            [
             1,
             "#f0f921"
            ]
           ]
          },
          "colorway": [
           "#636efa",
           "#EF553B",
           "#00cc96",
           "#ab63fa",
           "#FFA15A",
           "#19d3f3",
           "#FF6692",
           "#B6E880",
           "#FF97FF",
           "#FECB52"
          ],
          "font": {
           "color": "#2a3f5f"
          },
          "geo": {
           "bgcolor": "white",
           "lakecolor": "white",
           "landcolor": "#E5ECF6",
           "showlakes": true,
           "showland": true,
           "subunitcolor": "white"
          },
          "hoverlabel": {
           "align": "left"
          },
          "hovermode": "closest",
          "mapbox": {
           "style": "light"
          },
          "paper_bgcolor": "white",
          "plot_bgcolor": "#E5ECF6",
          "polar": {
           "angularaxis": {
            "gridcolor": "white",
            "linecolor": "white",
            "ticks": ""
           },
           "bgcolor": "#E5ECF6",
           "radialaxis": {
            "gridcolor": "white",
            "linecolor": "white",
            "ticks": ""
           }
          },
          "scene": {
           "xaxis": {
            "backgroundcolor": "#E5ECF6",
            "gridcolor": "white",
            "gridwidth": 2,
            "linecolor": "white",
            "showbackground": true,
            "ticks": "",
            "zerolinecolor": "white"
           },
           "yaxis": {
            "backgroundcolor": "#E5ECF6",
            "gridcolor": "white",
            "gridwidth": 2,
            "linecolor": "white",
            "showbackground": true,
            "ticks": "",
            "zerolinecolor": "white"
           },
           "zaxis": {
            "backgroundcolor": "#E5ECF6",
            "gridcolor": "white",
            "gridwidth": 2,
            "linecolor": "white",
            "showbackground": true,
            "ticks": "",
            "zerolinecolor": "white"
           }
          },
          "shapedefaults": {
           "line": {
            "color": "#2a3f5f"
           }
          },
          "ternary": {
           "aaxis": {
            "gridcolor": "white",
            "linecolor": "white",
            "ticks": ""
           },
           "baxis": {
            "gridcolor": "white",
            "linecolor": "white",
            "ticks": ""
           },
           "bgcolor": "#E5ECF6",
           "caxis": {
            "gridcolor": "white",
            "linecolor": "white",
            "ticks": ""
           }
          },
          "title": {
           "x": 0.05
          },
          "xaxis": {
           "automargin": true,
           "gridcolor": "white",
           "linecolor": "white",
           "ticks": "",
           "title": {
            "standoff": 15
           },
           "zerolinecolor": "white",
           "zerolinewidth": 2
          },
          "yaxis": {
           "automargin": true,
           "gridcolor": "white",
           "linecolor": "white",
           "ticks": "",
           "title": {
            "standoff": 15
           },
           "zerolinecolor": "white",
           "zerolinewidth": 2
          }
         }
        },
        "xaxis": {
         "anchor": "y",
         "domain": [
          0,
          1
         ],
         "title": {
          "text": "IMDb"
         }
        },
        "yaxis": {
         "anchor": "x",
         "domain": [
          0,
          1
         ],
         "title": {
          "text": "Rotten Tomatoes"
         }
        }
       }
      }
     },
     "metadata": {},
     "output_type": "display_data"
    }
   ],
   "source": [
    "px.scatter(tv_shows_both_ratings, x='IMDb', y='Rotten Tomatoes', color='StreamingOn')"
   ]
  },
  {
   "cell_type": "markdown",
   "metadata": {},
   "source": [
    "Using the scatter plot we can observe that it is quite obvious that Amazon Prime performs very well in the fourth quadrant. Even by using the bar plot, we can observe that Amazon prime had a great quantity of content. So looking at all the streaming platforms we can conclude that Amazon Prime is better in both quality and quantity."
   ]
  }
 ],
 "metadata": {
  "kernelspec": {
   "display_name": "Python 3.9.12 ('base')",
   "language": "python",
   "name": "python3"
  },
  "language_info": {
   "codemirror_mode": {
    "name": "ipython",
    "version": 3
   },
   "file_extension": ".py",
   "mimetype": "text/x-python",
   "name": "python",
   "nbconvert_exporter": "python",
   "pygments_lexer": "ipython3",
   "version": "3.9.12"
  },
  "orig_nbformat": 4,
  "vscode": {
   "interpreter": {
    "hash": "fd275371c28e8315e03adf8b037f110cb1b8ea1df403d06bca1b2c33c8fa2b88"
   }
  }
 },
 "nbformat": 4,
 "nbformat_minor": 2
}
